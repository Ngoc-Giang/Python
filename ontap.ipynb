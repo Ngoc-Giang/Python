{
 "cells": [
  {
   "cell_type": "code",
   "execution_count": 1,
   "metadata": {},
   "outputs": [],
   "source": []
  },
  {
   "cell_type": "markdown",
   "metadata": {},
   "source": [
    "1.\tTải dữ liệu diemthidaihoc.csv và hiển thị các dòng dữ liệu"
   ]
  },
  {
   "cell_type": "code",
   "execution_count": 1,
   "metadata": {},
   "outputs": [
    {
     "name": "stderr",
     "output_type": "stream",
     "text": [
      "Matplotlib is building the font cache; this may take a moment.\n"
     ]
    }
   ],
   "source": [
    "import numpy as np\n",
    "import pandas as pd\n",
    "import seaborn as sns\n",
    "import matplotlib.pyplot as plt"
   ]
  },
  {
   "cell_type": "code",
   "execution_count": 2,
   "metadata": {},
   "outputs": [],
   "source": [
    "df=pd.read_csv('dulieuxettuyendaihoc.csv',header=0,delimiter=',',encoding='utf-8')"
   ]
  },
  {
   "cell_type": "code",
   "execution_count": 5,
   "metadata": {},
   "outputs": [
    {
     "data": {
      "text/html": "<div>\n<style scoped>\n    .dataframe tbody tr th:only-of-type {\n        vertical-align: middle;\n    }\n\n    .dataframe tbody tr th {\n        vertical-align: top;\n    }\n\n    .dataframe thead th {\n        text-align: right;\n    }\n</style>\n<table border=\"1\" class=\"dataframe\">\n  <thead>\n    <tr style=\"text-align: right;\">\n      <th></th>\n      <th>MSSV</th>\n      <th>T1</th>\n      <th>T2</th>\n      <th>T3</th>\n      <th>T4</th>\n      <th>T5</th>\n      <th>T6</th>\n      <th>GT</th>\n      <th>DT</th>\n      <th>KV</th>\n      <th>NGONNGU</th>\n      <th>TOANLOGICPHANTICH</th>\n      <th>GIAIQUYETVANDE</th>\n      <th>KT</th>\n      <th>NGAYTHI</th>\n      <th>DINHHUONGNGHENGHIEP</th>\n    </tr>\n  </thead>\n  <tbody>\n    <tr>\n      <th>0</th>\n      <td>SV001</td>\n      <td>7.2</td>\n      <td>8.4</td>\n      <td>7.4</td>\n      <td>7.2</td>\n      <td>7.4</td>\n      <td>6.9</td>\n      <td>F</td>\n      <td>NaN</td>\n      <td>2NT</td>\n      <td>3.25</td>\n      <td>3.25</td>\n      <td>4.50</td>\n      <td>A1</td>\n      <td>12/7/2018</td>\n      <td>No</td>\n    </tr>\n    <tr>\n      <th>1</th>\n      <td>SV002</td>\n      <td>5.4</td>\n      <td>6.3</td>\n      <td>4.3</td>\n      <td>4.9</td>\n      <td>3.0</td>\n      <td>4.0</td>\n      <td>M</td>\n      <td>NaN</td>\n      <td>1</td>\n      <td>6.00</td>\n      <td>4.00</td>\n      <td>3.50</td>\n      <td>C</td>\n      <td>12/7/2018</td>\n      <td>Yes</td>\n    </tr>\n    <tr>\n      <th>2</th>\n      <td>SV003</td>\n      <td>5.6</td>\n      <td>5.0</td>\n      <td>2.8</td>\n      <td>6.1</td>\n      <td>4.8</td>\n      <td>5.7</td>\n      <td>M</td>\n      <td>NaN</td>\n      <td>1</td>\n      <td>5.00</td>\n      <td>6.75</td>\n      <td>4.00</td>\n      <td>C</td>\n      <td>12/7/2018</td>\n      <td>No</td>\n    </tr>\n    <tr>\n      <th>3</th>\n      <td>SV004</td>\n      <td>6.6</td>\n      <td>5.1</td>\n      <td>5.9</td>\n      <td>4.1</td>\n      <td>6.1</td>\n      <td>7.4</td>\n      <td>M</td>\n      <td>NaN</td>\n      <td>1</td>\n      <td>4.25</td>\n      <td>4.25</td>\n      <td>5.25</td>\n      <td>D1</td>\n      <td>12/7/2018</td>\n      <td>No</td>\n    </tr>\n    <tr>\n      <th>4</th>\n      <td>SV005</td>\n      <td>6.0</td>\n      <td>5.4</td>\n      <td>7.6</td>\n      <td>4.4</td>\n      <td>6.8</td>\n      <td>8.0</td>\n      <td>M</td>\n      <td>NaN</td>\n      <td>2NT</td>\n      <td>4.25</td>\n      <td>4.50</td>\n      <td>5.00</td>\n      <td>A</td>\n      <td>12/7/2018</td>\n      <td>No</td>\n    </tr>\n  </tbody>\n</table>\n</div>",
      "text/plain": "    MSSV   T1   T2   T3   T4   T5   T6 GT  DT   KV  NGONNGU  \\\n0  SV001  7.2  8.4  7.4  7.2  7.4  6.9  F NaN  2NT     3.25   \n1  SV002  5.4  6.3  4.3  4.9  3.0  4.0  M NaN    1     6.00   \n2  SV003  5.6  5.0  2.8  6.1  4.8  5.7  M NaN    1     5.00   \n3  SV004  6.6  5.1  5.9  4.1  6.1  7.4  M NaN    1     4.25   \n4  SV005  6.0  5.4  7.6  4.4  6.8  8.0  M NaN  2NT     4.25   \n\n   TOANLOGICPHANTICH  GIAIQUYETVANDE  KT    NGAYTHI DINHHUONGNGHENGHIEP  \n0               3.25            4.50  A1  12/7/2018                  No  \n1               4.00            3.50   C  12/7/2018                 Yes  \n2               6.75            4.00   C  12/7/2018                  No  \n3               4.25            5.25  D1  12/7/2018                  No  \n4               4.50            5.00   A  12/7/2018                  No  "
     },
     "execution_count": 5,
     "metadata": {},
     "output_type": "execute_result"
    }
   ],
   "source": [
    "df.head()"
   ]
  },
  {
   "cell_type": "markdown",
   "metadata": {},
   "source": [
    "2. Tiến hành EDA dữ liệu, ví dụ: Hãy thống kê các độ đo cơ bản của dữ liệu và nhận xét"
   ]
  },
  {
   "cell_type": "code",
   "execution_count": 12,
   "metadata": {},
   "outputs": [
    {
     "data": {
      "text/html": "<div>\n<style scoped>\n    .dataframe tbody tr th:only-of-type {\n        vertical-align: middle;\n    }\n\n    .dataframe tbody tr th {\n        vertical-align: top;\n    }\n\n    .dataframe thead th {\n        text-align: right;\n    }\n</style>\n<table border=\"1\" class=\"dataframe\">\n  <thead>\n    <tr style=\"text-align: right;\">\n      <th></th>\n      <th>count</th>\n      <th>mean</th>\n      <th>std</th>\n      <th>min</th>\n      <th>25%</th>\n      <th>50%</th>\n      <th>75%</th>\n      <th>max</th>\n      <th>MSSV</th>\n      <th>T1</th>\n      <th>...</th>\n      <th>T6</th>\n      <th>GT</th>\n      <th>DT</th>\n      <th>KV</th>\n      <th>NGONNGU</th>\n      <th>TOANLOGICPHANTICH</th>\n      <th>GIAIQUYETVANDE</th>\n      <th>KT</th>\n      <th>NGAYTHI</th>\n      <th>DINHHUONGNGHENGHIEP</th>\n    </tr>\n  </thead>\n  <tbody>\n    <tr>\n      <th>T1</th>\n      <td>100</td>\n      <td>5.946</td>\n      <td>1.60834</td>\n      <td>2.4</td>\n      <td>5</td>\n      <td>5.85</td>\n      <td>7.2</td>\n      <td>9.3</td>\n      <td>NaN</td>\n      <td>NaN</td>\n      <td>...</td>\n      <td>NaN</td>\n      <td>NaN</td>\n      <td>NaN</td>\n      <td>NaN</td>\n      <td>NaN</td>\n      <td>NaN</td>\n      <td>NaN</td>\n      <td>NaN</td>\n      <td>NaN</td>\n      <td>NaN</td>\n    </tr>\n    <tr>\n      <th>T2</th>\n      <td>100</td>\n      <td>6.374</td>\n      <td>1.56144</td>\n      <td>2.8</td>\n      <td>5.3</td>\n      <td>6.25</td>\n      <td>7.525</td>\n      <td>9.6</td>\n      <td>NaN</td>\n      <td>NaN</td>\n      <td>...</td>\n      <td>NaN</td>\n      <td>NaN</td>\n      <td>NaN</td>\n      <td>NaN</td>\n      <td>NaN</td>\n      <td>NaN</td>\n      <td>NaN</td>\n      <td>NaN</td>\n      <td>NaN</td>\n      <td>NaN</td>\n    </tr>\n    <tr>\n      <th>T3</th>\n      <td>100</td>\n      <td>6.383</td>\n      <td>1.57448</td>\n      <td>2.3</td>\n      <td>5.175</td>\n      <td>6.65</td>\n      <td>7.5</td>\n      <td>9.5</td>\n      <td>NaN</td>\n      <td>NaN</td>\n      <td>...</td>\n      <td>NaN</td>\n      <td>NaN</td>\n      <td>NaN</td>\n      <td>NaN</td>\n      <td>NaN</td>\n      <td>NaN</td>\n      <td>NaN</td>\n      <td>NaN</td>\n      <td>NaN</td>\n      <td>NaN</td>\n    </tr>\n    <tr>\n      <th>T4</th>\n      <td>100</td>\n      <td>6.291</td>\n      <td>1.46956</td>\n      <td>2.9</td>\n      <td>5.3</td>\n      <td>6.35</td>\n      <td>7.6</td>\n      <td>9.4</td>\n      <td>NaN</td>\n      <td>NaN</td>\n      <td>...</td>\n      <td>NaN</td>\n      <td>NaN</td>\n      <td>NaN</td>\n      <td>NaN</td>\n      <td>NaN</td>\n      <td>NaN</td>\n      <td>NaN</td>\n      <td>NaN</td>\n      <td>NaN</td>\n      <td>NaN</td>\n    </tr>\n    <tr>\n      <th>T5</th>\n      <td>100</td>\n      <td>6.717</td>\n      <td>1.47806</td>\n      <td>3</td>\n      <td>5.8</td>\n      <td>6.8</td>\n      <td>7.8</td>\n      <td>9.5</td>\n      <td>NaN</td>\n      <td>NaN</td>\n      <td>...</td>\n      <td>NaN</td>\n      <td>NaN</td>\n      <td>NaN</td>\n      <td>NaN</td>\n      <td>NaN</td>\n      <td>NaN</td>\n      <td>NaN</td>\n      <td>NaN</td>\n      <td>NaN</td>\n      <td>NaN</td>\n    </tr>\n    <tr>\n      <th>T6</th>\n      <td>100</td>\n      <td>6.937</td>\n      <td>1.3632</td>\n      <td>3.7</td>\n      <td>6</td>\n      <td>7.1</td>\n      <td>8</td>\n      <td>9.5</td>\n      <td>NaN</td>\n      <td>NaN</td>\n      <td>...</td>\n      <td>NaN</td>\n      <td>NaN</td>\n      <td>NaN</td>\n      <td>NaN</td>\n      <td>NaN</td>\n      <td>NaN</td>\n      <td>NaN</td>\n      <td>NaN</td>\n      <td>NaN</td>\n      <td>NaN</td>\n    </tr>\n    <tr>\n      <th>DT</th>\n      <td>3</td>\n      <td>2.66667</td>\n      <td>2.88675</td>\n      <td>1</td>\n      <td>1</td>\n      <td>1</td>\n      <td>3.5</td>\n      <td>6</td>\n      <td>NaN</td>\n      <td>NaN</td>\n      <td>...</td>\n      <td>NaN</td>\n      <td>NaN</td>\n      <td>NaN</td>\n      <td>NaN</td>\n      <td>NaN</td>\n      <td>NaN</td>\n      <td>NaN</td>\n      <td>NaN</td>\n      <td>NaN</td>\n      <td>NaN</td>\n    </tr>\n    <tr>\n      <th>NGONNGU</th>\n      <td>100</td>\n      <td>3.74</td>\n      <td>1.42441</td>\n      <td>1</td>\n      <td>2.5</td>\n      <td>3.625</td>\n      <td>4.75</td>\n      <td>7</td>\n      <td>NaN</td>\n      <td>NaN</td>\n      <td>...</td>\n      <td>NaN</td>\n      <td>NaN</td>\n      <td>NaN</td>\n      <td>NaN</td>\n      <td>NaN</td>\n      <td>NaN</td>\n      <td>NaN</td>\n      <td>NaN</td>\n      <td>NaN</td>\n      <td>NaN</td>\n    </tr>\n    <tr>\n      <th>TOANLOGICPHANTICH</th>\n      <td>100</td>\n      <td>4.255</td>\n      <td>1.06005</td>\n      <td>1.5</td>\n      <td>3.5</td>\n      <td>4.125</td>\n      <td>4.75</td>\n      <td>8</td>\n      <td>NaN</td>\n      <td>NaN</td>\n      <td>...</td>\n      <td>NaN</td>\n      <td>NaN</td>\n      <td>NaN</td>\n      <td>NaN</td>\n      <td>NaN</td>\n      <td>NaN</td>\n      <td>NaN</td>\n      <td>NaN</td>\n      <td>NaN</td>\n      <td>NaN</td>\n    </tr>\n    <tr>\n      <th>GIAIQUYETVANDE</th>\n      <td>100</td>\n      <td>4.875</td>\n      <td>1.04114</td>\n      <td>2.75</td>\n      <td>4.25</td>\n      <td>4.75</td>\n      <td>5.5</td>\n      <td>8</td>\n      <td>NaN</td>\n      <td>NaN</td>\n      <td>...</td>\n      <td>NaN</td>\n      <td>NaN</td>\n      <td>NaN</td>\n      <td>NaN</td>\n      <td>NaN</td>\n      <td>NaN</td>\n      <td>NaN</td>\n      <td>NaN</td>\n      <td>NaN</td>\n      <td>NaN</td>\n    </tr>\n    <tr>\n      <th>missing_values</th>\n      <td>NaN</td>\n      <td>NaN</td>\n      <td>NaN</td>\n      <td>NaN</td>\n      <td>NaN</td>\n      <td>NaN</td>\n      <td>NaN</td>\n      <td>NaN</td>\n      <td>0</td>\n      <td>0</td>\n      <td>...</td>\n      <td>0</td>\n      <td>0</td>\n      <td>97</td>\n      <td>0</td>\n      <td>0</td>\n      <td>0</td>\n      <td>0</td>\n      <td>0</td>\n      <td>0</td>\n      <td>0</td>\n    </tr>\n    <tr>\n      <th>data_type</th>\n      <td>NaN</td>\n      <td>NaN</td>\n      <td>NaN</td>\n      <td>NaN</td>\n      <td>NaN</td>\n      <td>NaN</td>\n      <td>NaN</td>\n      <td>NaN</td>\n      <td>object</td>\n      <td>float64</td>\n      <td>...</td>\n      <td>float64</td>\n      <td>object</td>\n      <td>float64</td>\n      <td>object</td>\n      <td>float64</td>\n      <td>float64</td>\n      <td>float64</td>\n      <td>object</td>\n      <td>object</td>\n      <td>object</td>\n    </tr>\n  </tbody>\n</table>\n<p>12 rows × 24 columns</p>\n</div>",
      "text/plain": "                  count     mean      std   min    25%    50%    75%  max  \\\nT1                  100    5.946  1.60834   2.4      5   5.85    7.2  9.3   \nT2                  100    6.374  1.56144   2.8    5.3   6.25  7.525  9.6   \nT3                  100    6.383  1.57448   2.3  5.175   6.65    7.5  9.5   \nT4                  100    6.291  1.46956   2.9    5.3   6.35    7.6  9.4   \nT5                  100    6.717  1.47806     3    5.8    6.8    7.8  9.5   \nT6                  100    6.937   1.3632   3.7      6    7.1      8  9.5   \nDT                    3  2.66667  2.88675     1      1      1    3.5    6   \nNGONNGU             100     3.74  1.42441     1    2.5  3.625   4.75    7   \nTOANLOGICPHANTICH   100    4.255  1.06005   1.5    3.5  4.125   4.75    8   \nGIAIQUYETVANDE      100    4.875  1.04114  2.75   4.25   4.75    5.5    8   \nmissing_values      NaN      NaN      NaN   NaN    NaN    NaN    NaN  NaN   \ndata_type           NaN      NaN      NaN   NaN    NaN    NaN    NaN  NaN   \n\n                     MSSV       T1  ...       T6      GT       DT      KV  \\\nT1                    NaN      NaN  ...      NaN     NaN      NaN     NaN   \nT2                    NaN      NaN  ...      NaN     NaN      NaN     NaN   \nT3                    NaN      NaN  ...      NaN     NaN      NaN     NaN   \nT4                    NaN      NaN  ...      NaN     NaN      NaN     NaN   \nT5                    NaN      NaN  ...      NaN     NaN      NaN     NaN   \nT6                    NaN      NaN  ...      NaN     NaN      NaN     NaN   \nDT                    NaN      NaN  ...      NaN     NaN      NaN     NaN   \nNGONNGU               NaN      NaN  ...      NaN     NaN      NaN     NaN   \nTOANLOGICPHANTICH     NaN      NaN  ...      NaN     NaN      NaN     NaN   \nGIAIQUYETVANDE        NaN      NaN  ...      NaN     NaN      NaN     NaN   \nmissing_values          0        0  ...        0       0       97       0   \ndata_type          object  float64  ...  float64  object  float64  object   \n\n                   NGONNGU TOANLOGICPHANTICH GIAIQUYETVANDE      KT NGAYTHI  \\\nT1                     NaN               NaN            NaN     NaN     NaN   \nT2                     NaN               NaN            NaN     NaN     NaN   \nT3                     NaN               NaN            NaN     NaN     NaN   \nT4                     NaN               NaN            NaN     NaN     NaN   \nT5                     NaN               NaN            NaN     NaN     NaN   \nT6                     NaN               NaN            NaN     NaN     NaN   \nDT                     NaN               NaN            NaN     NaN     NaN   \nNGONNGU                NaN               NaN            NaN     NaN     NaN   \nTOANLOGICPHANTICH      NaN               NaN            NaN     NaN     NaN   \nGIAIQUYETVANDE         NaN               NaN            NaN     NaN     NaN   \nmissing_values           0                 0              0       0       0   \ndata_type          float64           float64        float64  object  object   \n\n                  DINHHUONGNGHENGHIEP  \nT1                                NaN  \nT2                                NaN  \nT3                                NaN  \nT4                                NaN  \nT5                                NaN  \nT6                                NaN  \nDT                                NaN  \nNGONNGU                           NaN  \nTOANLOGICPHANTICH                 NaN  \nGIAIQUYETVANDE                    NaN  \nmissing_values                      0  \ndata_type                      object  \n\n[12 rows x 24 columns]"
     },
     "execution_count": 12,
     "metadata": {},
     "output_type": "execute_result"
    }
   ],
   "source": [
    "#2)\r\n",
    "# Detailed EDA with Python code\r\n",
    "\r\n",
    "# Basic statistical details\r\n",
    "basic_stats = df.describe()\r\n",
    "\r\n",
    "# Check for missing values\r\n",
    "missing_values = df.isnull().sum()\r\n",
    "\r\n",
    "# Check for data types\r\n",
    "data_types = df.dtypes\r\n",
    "\r\n",
    "# Combine basic stats, missing values information, and data types\r\n",
    "eda_summary = pd.concat([basic_stats, missing_values.rename('missing_values'), data_types.rename('data_type')], axis=1)\r\n",
    "\r\n",
    "# Display the EDA summary\r\n",
    "eda_summary.T  \r\n",
    "# Transpose for better readability\r\n",
    " \r\n",
    "\r\n"
   ]
  },
  {
   "cell_type": "code",
   "execution_count": 13,
   "metadata": {},
   "outputs": [
    {
     "data": {
      "text/plain": "((80, 2), (20, 2), (80,), (20,))"
     },
     "execution_count": 13,
     "metadata": {},
     "output_type": "execute_result"
    }
   ],
   "source": [
    "from sklearn.model_selection import train_test_split\r\n",
    "\r\n",
    "# Tính giá trị trung bình của các điểm T1 đến T6 để thể hiện đặc tính 'Toán'\r\n",
    "df['Toan'] = df[['T1', 'T2', 'T3', 'T4', 'T5', 'T6']].mean(axis=1)\r\n",
    "\r\n",
    "# Mã hóa cột “GT” (giới tính): Nam (M) là 1, Nữ (F) là 0\r\n",
    "df['GT_encoded'] = df['GT'].map({'M': 1, 'F': 0})\r\n",
    "\r\n",
    "# Xác định các tính năng và biến mục tiêu\r\n",
    "X = df[['Toan', 'GT_encoded']]\r\n",
    "y = df['TOANLOGICPHANTICH']\r\n",
    "\r\n",
    "# Chia dữ liệu thành tập huấn luyện và tập kiểm tra với tỷ lệ 80:20 và trạng thái ngẫu nhiên là 16\r\n",
    "X_train, X_test, y_train, y_test = train_test_split(X, y, test_size=0.20, random_state=16)\r\n",
    "\r\n",
    "# Kiểm tra hình dạng của tập hợp kết quả\r\n",
    "X_train.shape, X_test.shape, y_train.shape, y_test.shape\r\n"
   ]
  },
  {
   "cell_type": "markdown",
   "metadata": {},
   "source": [
    "4.\tTiến hành transform theo hàm x*x dữ liệu input đầu vào trên tập train"
   ]
  },
  {
   "cell_type": "code",
   "execution_count": 15,
   "metadata": {},
   "outputs": [
    {
     "data": {
      "text/html": "<div>\n<style scoped>\n    .dataframe tbody tr th:only-of-type {\n        vertical-align: middle;\n    }\n\n    .dataframe tbody tr th {\n        vertical-align: top;\n    }\n\n    .dataframe thead th {\n        text-align: right;\n    }\n</style>\n<table border=\"1\" class=\"dataframe\">\n  <thead>\n    <tr style=\"text-align: right;\">\n      <th></th>\n      <th>Toan</th>\n      <th>GT_encoded</th>\n    </tr>\n  </thead>\n  <tbody>\n    <tr>\n      <th>96</th>\n      <td>18.062500</td>\n      <td>0</td>\n    </tr>\n    <tr>\n      <th>5</th>\n      <td>71.684444</td>\n      <td>1</td>\n    </tr>\n    <tr>\n      <th>90</th>\n      <td>75.980278</td>\n      <td>1</td>\n    </tr>\n    <tr>\n      <th>53</th>\n      <td>26.866944</td>\n      <td>1</td>\n    </tr>\n    <tr>\n      <th>67</th>\n      <td>46.240000</td>\n      <td>1</td>\n    </tr>\n  </tbody>\n</table>\n</div>",
      "text/plain": "         Toan  GT_encoded\n96  18.062500           0\n5   71.684444           1\n90  75.980278           1\n53  26.866944           1\n67  46.240000           1"
     },
     "execution_count": 15,
     "metadata": {},
     "output_type": "execute_result"
    }
   ],
   "source": [
    "# Áp dụng phép biến đổi x -> x^2 cho các thuộc tính đầu vào trên tập huấn luyện\r\n",
    "X_train_transformed = X_train.copy()\r\n",
    "X_train_transformed['Toan'] = X_train_transformed['Toan'] ** 2\r\n",
    "X_train_transformed['GT_encoded'] = X_train_transformed['GT_encoded'] ** 2\r\n",
    "\r\n",
    "X_train_transformed.head()\r\n"
   ]
  },
  {
   "cell_type": "markdown",
   "metadata": {},
   "source": [
    "5.\tTiến hành EDA dữ liệu các điểm toán sau khi transform. Ví dụ: Hãy vẽ biểu đồ phân phối các điểm toán và cho nhận xét"
   ]
  },
  {
   "cell_type": "code",
   "execution_count": 19,
   "metadata": {},
   "outputs": [
    {
     "data": {
      "image/png": "[encoded data removed]",
      "text/plain": "<Figure size 720x432 with 1 Axes>"
     },
     "metadata": {
      "needs_background": "light"
     },
     "output_type": "display_data"
    }
   ],
   "source": [
    "import seaborn as sns\r\n",
    "import matplotlib.pyplot as plt\r\n",
    "\r\n",
    "# Vẽ đồ thị phân bố điểm ‘Toan’ được chuyển đổi\r\n",
    "plt.figure(figsize=(10, 6))\r\n",
    "sns.histplot(X_train_transformed['Toan'], kde=True)\r\n",
    "plt.title('Phân phối của điểm Toán sau khi biến đổi (x^2)')\r\n",
    "plt.xlabel('Điểm Toán sau biến đổi')\r\n",
    "plt.ylabel('Số lượng')\r\n",
    "plt.show()\r\n",
    "\r\n",
    "#Nhận xét\r\n",
    "#Biểu đồ phân phối của điểm Toán sau khi biến đổi \r\n",
    "#X^2 cho thấy rằng phân phối của điểm Toán không còn đều và có dạng phân phối lệch phải. Điều này là do khi nâng một số lên lũy thừa 2, các giá trị lớn sẽ trở nên cực kỳ lớn so với các giá trị nhỏ hơn, từ đó làm tăng sự biệt lập giữa các điểm số - tức là, sự phân tán dữ liệu tăng lên.\r\n"
   ]
  },
  {
   "cell_type": "markdown",
   "metadata": {},
   "source": [
    "6.\tTiến hành tiếp tục chuẩn hóa minmaxscale dữ liệu đầu vào trên tập train"
   ]
  },
  {
   "cell_type": "code",
   "execution_count": 20,
   "metadata": {},
   "outputs": [
    {
     "data": {
      "text/html": "<div>\n<style scoped>\n    .dataframe tbody tr th:only-of-type {\n        vertical-align: middle;\n    }\n\n    .dataframe tbody tr th {\n        vertical-align: top;\n    }\n\n    .dataframe thead th {\n        text-align: right;\n    }\n</style>\n<table border=\"1\" class=\"dataframe\">\n  <thead>\n    <tr style=\"text-align: right;\">\n      <th></th>\n      <th>Toan</th>\n      <th>GT_encoded</th>\n    </tr>\n  </thead>\n  <tbody>\n    <tr>\n      <th>96</th>\n      <td>0.083716</td>\n      <td>0.0</td>\n    </tr>\n    <tr>\n      <th>5</th>\n      <td>0.871878</td>\n      <td>1.0</td>\n    </tr>\n    <tr>\n      <th>90</th>\n      <td>0.935020</td>\n      <td>1.0</td>\n    </tr>\n    <tr>\n      <th>53</th>\n      <td>0.213128</td>\n      <td>1.0</td>\n    </tr>\n    <tr>\n      <th>67</th>\n      <td>0.497883</td>\n      <td>1.0</td>\n    </tr>\n  </tbody>\n</table>\n</div>",
      "text/plain": "        Toan  GT_encoded\n96  0.083716         0.0\n5   0.871878         1.0\n90  0.935020         1.0\n53  0.213128         1.0\n67  0.497883         1.0"
     },
     "execution_count": 20,
     "metadata": {},
     "output_type": "execute_result"
    }
   ],
   "source": [
    "from sklearn.preprocessing import MinMaxScaler\r\n",
    "\r\n",
    "# Khởi tạo MinMaxScaler\r\n",
    "scaler = MinMaxScaler()\r\n",
    "\r\n",
    "# Điều chỉnh bộ chia tỷ lệ trên dữ liệu huấn luyện và biến đổi nó\r\n",
    "X_train_scaled = scaler.fit_transform(X_train_transformed)\r\n",
    "\r\n",
    "# Chuyển đổi mảng được chia tỷ lệ thành DataFrame để dễ đọc\r\n",
    "X_train_scaled_df = pd.DataFrame(X_train_scaled, columns=X_train_transformed.columns, index=X_train_transformed.index)\r\n",
    "\r\n",
    "X_train_scaled_df.head()\r\n"
   ]
  },
  {
   "cell_type": "markdown",
   "metadata": {},
   "source": [
    "7.\tTiến hành EDA dữ liệu các điểm toán sau khi minmaxscale. Ví dụ: Hãy vẽ biểu đồ Boxplot của điểm toán các học kì và cho nhận xét"
   ]
  },
  {
   "cell_type": "code",
   "execution_count": 21,
   "metadata": {},
   "outputs": [
    {
     "data": {
      "image/png": "[encoded data removed]",
      "text/plain": "<Figure size 576x360 with 1 Axes>"
     },
     "metadata": {
      "needs_background": "light"
     },
     "output_type": "display_data"
    }
   ],
   "source": [
    "# Vẽ đồ thị boxplot của thang điểm 'Toan'\r\n",
    "plt.figure(figsize=(8, 5))\r\n",
    "sns.boxplot(data=X_train_scaled_df['Toan'])\r\n",
    "plt.title('Biểu đồ Boxplot của điểm Toán sau khi Min-Max Scaling')\r\n",
    "plt.xlabel('Điểm Toán đã chuẩn hóa')\r\n",
    "plt.show()\r\n"
   ]
  },
  {
   "cell_type": "markdown",
   "metadata": {},
   "source": [
    "8.\tXây dựng mô hình hồi quy tuyến tính dự báo điểm LOGIC dựa trên các yếu tố điểm toán và giới tính"
   ]
  },
  {
   "cell_type": "code",
   "execution_count": 28,
   "metadata": {},
   "outputs": [
    {
     "data": {
      "text/plain": "(array([0.78828944, 0.55418907]), 3.667005806172457)"
     },
     "execution_count": 28,
     "metadata": {},
     "output_type": "execute_result"
    }
   ],
   "source": [
    "from sklearn.linear_model import LinearRegression\r\n",
    "\r\n",
    "# Khởi tạo mô hình hồi quy tuyến tính\r\n",
    "linear_model = LinearRegression()\r\n",
    "\r\n",
    "# Điều chỉnh mô hình cho phù hợp với dữ liệu huấn luyện\r\n",
    "linear_model.fit(X_train_scaled_df, y_train)\r\n",
    "\r\n",
    "# Hệ số và điểm chặn của mô hình\r\n",
    "coefficients = linear_model.coef_\r\n",
    "intercept = linear_model.intercept_\r\n",
    "\r\n",
    "coefficients, intercept\r\n"
   ]
  },
  {
   "cell_type": "markdown",
   "metadata": {},
   "source": [
    "9.\tHãy đánh giá mô hình trên tập train và test. Ví dụ: so sánh kết quả MAE trên tập train và test đưa ra nhận xét"
   ]
  },
  {
   "cell_type": "code",
   "execution_count": 23,
   "metadata": {},
   "outputs": [
    {
     "data": {
      "text/plain": "(0.7672092632343048, 0.8013669919511436)"
     },
     "execution_count": 23,
     "metadata": {},
     "output_type": "execute_result"
    }
   ],
   "source": [
    "from sklearn.metrics import mean_absolute_error\r\n",
    "\r\n",
    "# Đầu tiên chúng ta cần biến đổi và chia tỷ lệ tập kiểm tra tương tự như tập tàu\r\n",
    "X_test_transformed = X_test.copy()\r\n",
    "X_test_transformed['Toan'] = X_test_transformed['Toan'] ** 2  # Áp dụng phép biến đổi tương tự như tập huấn luyện\r\n",
    "X_test_transformed['GT_encoded'] = X_test_transformed['GT_encoded'] ** 2  # Mặc dù điều này không có tác dụng\r\n",
    "\r\n",
    "# Chia tỷ lệ tập kiểm tra bằng cách sử dụng cùng một bộ chia tỷ lệ được trang bị trên tập huấn luyện\r\n",
    "X_test_scaled = scaler.transform(X_test_transformed)\r\n",
    "\r\n",
    "# Đưa ra dự đoán về tập huấn luyện và tập kiểm tra\r\n",
    "y_train_pred = linear_model.predict(X_train_scaled_df)\r\n",
    "y_test_pred = linear_model.predict(X_test_scaled)\r\n",
    "\r\n",
    "# Tính MAE cho tập huấn luyện và tập kiểm tra\r\n",
    "mae_train = mean_absolute_error(y_train, y_train_pred)\r\n",
    "mae_test = mean_absolute_error(y_test, y_test_pred)\r\n",
    "\r\n",
    "mae_train, mae_test\r\n"
   ]
  },
  {
   "cell_type": "markdown",
   "metadata": {},
   "source": [
    "Sai số tuyệt đối trung bình (MAE) cho tập huấn luyện là khoảng \r\n",
    "0.7672         \r\n",
    " và cho tập kiểm tra là khoảng \r\n",
    "0.8014\r\n",
    "\r\n",
    "\r\n",
    "Nhận xét:\r\n",
    "\r\n",
    "MAE ở cả hai tập huấn luyện và kiểm tra đều tương tự nhau, điều này cho thấy mô hình có sự nhất quán giữa việc học từ dữ liệu huấn luyện và dự đoán trên dữ liệu mới.\r\n",
    "Sự chênh lệch không lớn giữa MAE trên tập huấn luyện và tập kiểm tra cũng cho thấy rằng mô hình không bị overfitting, tức là nó không quá phụ thuộc vào dữ liệu huấn luyện đến nỗi không thể tổng quát hóa tốt trên dữ liệu mới.\r\n",
    "Tuy nhiên, giá trị của MAE cần được đánh giá trong bối cảnh cụ thể của bài toán và thang điểm được sử dụng. Nếu điểm số LOGIC có phạm vi từ 0 đến 10, một MAE khoảng 0.8 có thể được xem là tương đối nhỏ; nhưng nếu thang điểm nhỏ hơn, sai số này có thể không được chấp nhận."
   ]
  },
  {
   "cell_type": "markdown",
   "metadata": {},
   "source": [
    "10.\tỨng dụng dự báo, với điểm toán các học kì 1,2 các năm lớp 10,11,12 và giới tính lần lượt là: 5.0, 6.5, 7.0, 7.0, 6.5, 6.0 và giới tính là nam thì điểm thi LOGIC là bao nhiêu."
   ]
  },
  {
   "cell_type": "code",
   "execution_count": 25,
   "metadata": {},
   "outputs": [
    {
     "data": {
      "text/plain": "4.542657377524688"
     },
     "execution_count": 25,
     "metadata": {},
     "output_type": "execute_result"
    }
   ],
   "source": [
    "# Tính điểm trung bình của Toàn\r\n",
    "mean_toan_score = np.mean([5.0, 6.5, 7.0, 7.0, 6.5, 6.0])\r\n",
    "\r\n",
    "# Mã hóa giới tính: Nam là 1\r\n",
    "gender_encoded = 1  # vì giới tính là nam\r\n",
    "\r\n",
    "# Áp dụng phép biến đổi x^2\r\n",
    "toan_transformed = mean_toan_score ** 2\r\n",
    "gender_transformed = gender_encoded ** 2  # Đây còn lại là 1\r\n",
    "\r\n",
    "# Chia tỷ lệ các tính năng bằng cách sử dụng cùng một bộ chia tỷ lệ được trang bị trên tập huấn luyện\r\n",
    "features = np.array([[toan_transformed, gender_transformed]])\r\n",
    "features_scaled = scaler.transform(features)\r\n",
    "\r\n",
    "# Dự đoán điểm LOGIC bằng mô hình được đào tạo\r\n",
    "predicted_logic_score = linear_model.predict(features_scaled)\r\n",
    "\r\n",
    "predicted_logic_score[0]\r\n"
   ]
  },
  {
   "cell_type": "code",
   "execution_count": 26,
   "metadata": {},
   "outputs": [
    {
     "data": {
      "text/plain": "4.542657377524688"
     },
     "execution_count": 26,
     "metadata": {},
     "output_type": "execute_result"
    }
   ],
   "source": [
    "import numpy as np\r\n",
    "\r\n",
    "# Tính lại điểm trung bình của Toàn\r\n",
    "mean_toan_score = np.mean([5.0, 6.5, 7.0, 7.0, 6.5, 6.0])\r\n",
    "\r\n",
    "# Áp dụng lại các phép biến đổi và chia tỷ lệ\r\n",
    "toan_transformed = mean_toan_score ** 2\r\n",
    "features_scaled = scaler.transform([[toan_transformed, gender_encoded]])  # mã hóa giới tính vẫn còn 1\r\n",
    "\r\n",
    "# Dự đoán điểm LOGIC bằng mô hình được đào tạo\r\n",
    "predicted_logic_score = linear_model.predict(features_scaled)\r\n",
    "\r\n",
    "predicted_logic_score[0]\r\n"
   ]
  },
  {
   "cell_type": "code",
   "execution_count": 29,
   "metadata": {},
   "outputs": [
    {
     "data": {
      "text/plain": "4.542657377524688"
     },
     "execution_count": 29,
     "metadata": {},
     "output_type": "execute_result"
    }
   ],
   "source": [
    "# Xác định giới tính_encoded cho nam là 1\r\n",
    "gender_encoded = 1\r\n",
    "\r\n",
    "# Áp dụng lại phép chuyển đổi và chia tỷ lệ\r\n",
    "toan_transformed = mean_toan_score ** 2\r\n",
    "features_scaled = scaler.transform([[toan_transformed, gender_encoded]])\r\n",
    "\r\n",
    "# Dự đoán điểm LOGIC bằng mô hình được đào tạo\r\n",
    "predicted_logic_score = linear_model.predict(features_scaled)\r\n",
    "\r\n",
    "predicted_logic_score[0]\r\n"
   ]
  },
  {
   "cell_type": "markdown",
   "metadata": {},
   "source": [
    "Dựa trên mô hình hồi quy tuyến tính đã được huấn luyện, điểm thi LOGIC dự kiến cho một học sinh nam với các điểm Toán là 5.0, 6.5, 7.0, 7.0, 6.5, 6.0 qua các học kì là khoảng 4.54."
   ]
  }
 ],
 "metadata": {
  "kernelspec": {
   "display_name": "Python 3",
   "language": "python",
   "name": "python3"
  },
  "language_info": {
   "codemirror_mode": {
    "name": "ipython",
    "version": 3
   },
   "file_extension": ".py",
   "mimetype": "text/x-python",
   "name": "python",
   "nbconvert_exporter": "python",
   "pygments_lexer": "ipython3",
   "version": "3.10.7"
  },
  "orig_nbformat": 4
 },
 "nbformat": 4,
 "nbformat_minor": 2
}